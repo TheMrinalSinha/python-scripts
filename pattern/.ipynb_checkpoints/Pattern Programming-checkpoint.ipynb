{
 "metadata": {
  "name": "",
  "signature": "sha256:da58f4d601e4669257422117501f04f56479eb62f289b3f621edb46355caa931"
 },
 "nbformat": 3,
 "nbformat_minor": 0,
 "worksheets": [
  {
   "cells": [
    {
     "cell_type": "code",
     "collapsed": false,
     "input": [
      "# Pattern Program 1\n",
      "\n",
      "num = int(input('Enter number of rows: '))\n",
      "for row in range(1, num+1):\n",
      "    for col in range(1, row+1):\n",
      "        print('*', end=' ')\n",
      "    print()"
     ],
     "language": "python",
     "metadata": {},
     "outputs": []
    },
    {
     "cell_type": "code",
     "collapsed": false,
     "input": [],
     "language": "python",
     "metadata": {},
     "outputs": []
    },
    {
     "cell_type": "code",
     "collapsed": false,
     "input": [],
     "language": "python",
     "metadata": {},
     "outputs": []
    },
    {
     "cell_type": "code",
     "collapsed": false,
     "input": [],
     "language": "python",
     "metadata": {},
     "outputs": []
    }
   ],
   "metadata": {}
  }
 ]
}