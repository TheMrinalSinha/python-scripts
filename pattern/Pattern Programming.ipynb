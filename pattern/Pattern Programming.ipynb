{
 "metadata": {
  "name": "",
  "signature": "sha256:7c5a7bcb80d90e2adeefbd0ba95c76b911abce1ec773864e385a87cb1ca9d26f"
 },
 "nbformat": 3,
 "nbformat_minor": 0,
 "worksheets": [
  {
   "cells": [
    {
     "cell_type": "code",
     "collapsed": false,
     "input": [
      "# Pattern Program 1\n",
      "\n",
      "num = int(input('Enter number of rows: '))\n",
      "for row in range(1, num+1):\n",
      "    for col in range(1, row+1):\n",
      "        print('*', end=' ')\n",
      "    print()"
     ],
     "language": "python",
     "metadata": {},
     "outputs": [
      {
       "name": "stdout",
       "output_type": "stream",
       "stream": "stdout",
       "text": [
        "Enter number of rows: 6\n"
       ]
      },
      {
       "output_type": "stream",
       "stream": "stdout",
       "text": [
        "* \n",
        "* * \n",
        "* * * \n",
        "* * * * \n",
        "* * * * * \n",
        "* * * * * * \n"
       ]
      }
     ],
     "prompt_number": 1
    },
    {
     "cell_type": "code",
     "collapsed": false,
     "input": [
      "# Pattern Program 2\n",
      "\n",
      "num = int(input('Enter number of rows: '))\n",
      "k = 1\n",
      "for row in range(1, num+1):\n",
      "    for col in range(1, k)"
     ],
     "language": "python",
     "metadata": {},
     "outputs": []
    },
    {
     "cell_type": "code",
     "collapsed": false,
     "input": [],
     "language": "python",
     "metadata": {},
     "outputs": []
    },
    {
     "cell_type": "code",
     "collapsed": false,
     "input": [],
     "language": "python",
     "metadata": {},
     "outputs": []
    }
   ],
   "metadata": {}
  }
 ]
}