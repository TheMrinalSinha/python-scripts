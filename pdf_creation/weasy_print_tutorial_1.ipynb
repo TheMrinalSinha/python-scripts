{
 "cells": [
  {
   "cell_type": "markdown",
   "metadata": {},
   "source": [
    "### Starting with WeasyPrint\n",
    "\n",
    "Installation:\n",
    "Source: https://weasyprint.readthedocs.io/en/stable/install.html#linux\n",
    "- Required packages for ubuntu machine\n",
    "\n",
    "`sudo apt-get install build-essential python3-dev python3-pip python3-setuptools python3-wheel python3-cffi libcairo2 libpango-1.0-0 libpangocairo-1.0-0 libgdk-pixbuf2.0-0 libffi-dev shared-mime-info`\n",
    "\n",
    "- Now install package using\n",
    "\n",
    "`pip install WeasyPrint`\n",
    "\n",
    "You can also run it as executable.\n",
    "\n",
    "`\n",
    "$ weasyprint --help\n",
    "$ weasyprint http://weasyprint.org ./weasyprint-website.pdf\n",
    "`\n",
    "\n",
    "You can also play with WeasyPrint Navigator and WeasyPrint Renderer.\n",
    "\n",
    "`\n",
    "$python -m weasyprint.tools.navigator\n",
    "$python -m weasyprint.tools.renderer\n",
    "`"
   ]
  },
  {
   "cell_type": "code",
   "execution_count": null,
   "metadata": {},
   "outputs": [],
   "source": []
  }
 ],
 "metadata": {
  "kernelspec": {
   "display_name": "Python 3",
   "language": "python",
   "name": "python3"
  },
  "language_info": {
   "codemirror_mode": {
    "name": "ipython",
    "version": 3
   },
   "file_extension": ".py",
   "mimetype": "text/x-python",
   "name": "python",
   "nbconvert_exporter": "python",
   "pygments_lexer": "ipython3",
   "version": "3.8.2"
  }
 },
 "nbformat": 4,
 "nbformat_minor": 4
}
