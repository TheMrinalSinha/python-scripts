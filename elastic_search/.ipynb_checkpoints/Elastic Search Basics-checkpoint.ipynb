{
 "cells": [
  {
   "cell_type": "markdown",
   "metadata": {},
   "source": [
    "Source: https://elasticsearch-py.readthedocs.io/en/7.9.1/api.html"
   ]
  },
  {
   "cell_type": "markdown",
   "metadata": {},
   "source": [
    "### Example Usage"
   ]
  },
  {
   "cell_type": "code",
   "execution_count": 3,
   "metadata": {},
   "outputs": [],
   "source": [
    "from datetime import datetime\n",
    "from elasticsearch import Elasticsearch"
   ]
  },
  {
   "cell_type": "code",
   "execution_count": 5,
   "metadata": {},
   "outputs": [
    {
     "name": "stdout",
     "output_type": "stream",
     "text": [
      "created\n",
      "{'author': 'Kimcky', 'text': 'elasticsearch cool, bonsai cool', 'timestamp': '2020-10-29T15:37:39.423485'}\n",
      "Got 1 hits.\n",
      "{'_index': 'test-index', '_type': '_doc', '_id': '1', '_score': 1.0, '_source': {'author': 'Kimcky', 'text': 'elasticsearch cool, bonsai cool', 'timestamp': '2020-10-29T15:37:39.423485'}}\n"
     ]
    }
   ],
   "source": [
    "es = Elasticsearch() # to connect local at 9200\n",
    "# es = Elasticsearch(\"http://127.0.0.1:9200\")\n",
    "# es = Elasticsearch(host=\"http://127.0.0.1\", port=\"9200\")\n",
    "\n",
    "# sample data/document\n",
    "doc = {\n",
    "    \"author\": \"Kimcky\",\n",
    "    \"text\": \"elasticsearch cool, bonsai cool\",\n",
    "    \"timestamp\": datetime.now(),\n",
    "}\n",
    "\n",
    "# deleting index for saferun everytime\n",
    "es.indices.delete(index=\"test-index\")\n",
    "\n",
    "_result = es.index(index=\"test-index\", id=1, body=doc)\n",
    "print(_result['result'])\n",
    "\n",
    "_result = es.get(index=\"test-index\", id=1)\n",
    "print(_result['_source'])\n",
    "\n",
    "es.indices.refresh(index=\"test-index\")\n",
    "\n",
    "_result = es.search(index=\"test-index\", body={\"query\": {\"match_all\": {}}})\n",
    "print(f\"Got {_result['hits']['total']['value']} hits.\")\n",
    "\n",
    "for hit in _result['hits']['hits']:\n",
    "    print(hit)"
   ]
  },
  {
   "cell_type": "markdown",
   "metadata": {},
   "source": [
    "### Global options\n",
    "\n",
    "#### Ignore\n",
    "An API call is considered successful (and will return a response) if elasticsearch returns a 2XX response. Otherwise an instance of `TransportError` (or a more specific subclass) will be raised. You can see other exception and error states in Exceptions.\n",
    "\n",
    "If you don't wish as exception use `ignore` param"
   ]
  },
  {
   "cell_type": "code",
   "execution_count": null,
   "metadata": {},
   "outputs": [],
   "source": [
    "# ignore 400 cause by IndexAlreadyExistsException when creating an index\n",
    "es.indices.create(index=\"test-index\", ignore=400)\n",
    "\n",
    "# ignore 400 and 404\n",
    "# es.indices.delete(index=\"test-index\", ignore=[400, 404])"
   ]
  },
  {
   "cell_type": "markdown",
   "metadata": {},
   "source": [
    "#### Timeout\n",
    "Global timeout can be set when constructing the client or on a per-requenst basis using `request_timeout` as part of any API call, this value will get passed to the `perform_request` method of the connection class"
   ]
  },
  {
   "cell_type": "code",
   "execution_count": null,
   "metadata": {},
   "outputs": [],
   "source": [
    "# only wait for 5 second, regardless of the clinet's default\n",
    "es.cluster.health(wait_for_status='yellow', request_timeout=1)"
   ]
  },
  {
   "cell_type": "markdown",
   "metadata": {},
   "source": [
    "#### Response Filtering\n",
    "\n",
    "The `filter_path` parameter is used to reduce the response returned by elasticsearch. Example, to only return `_id` and `_type` do:"
   ]
  },
  {
   "cell_type": "code",
   "execution_count": null,
   "metadata": {},
   "outputs": [],
   "source": [
    "# es.search(index=\"test-index\", filter_path=[\"hits.hits._id\", \"hits.hits._type\"])\n",
    "# OR (using wildcard)\n",
    "es.search(index=\"test-index\", filter_path=[\"hits.hits._*\"])"
   ]
  },
  {
   "cell_type": "code",
   "execution_count": null,
   "metadata": {},
   "outputs": [],
   "source": []
  }
 ],
 "metadata": {
  "kernelspec": {
   "display_name": "Python 3",
   "language": "python",
   "name": "python3"
  },
  "language_info": {
   "codemirror_mode": {
    "name": "ipython",
    "version": 3
   },
   "file_extension": ".py",
   "mimetype": "text/x-python",
   "name": "python",
   "nbconvert_exporter": "python",
   "pygments_lexer": "ipython3",
   "version": "3.8.5"
  }
 },
 "nbformat": 4,
 "nbformat_minor": 4
}
